{
 "cells": [
  {
   "cell_type": "markdown",
   "metadata": {},
   "source": [
    "# Universal Overture Feature Retriever Example\n",
    "\n",
    "This notebook demonstrates the new universal feature retriever infrastructure that extends the BuildingRetriever pattern to support any Overture Maps feature type.\n",
    "\n",
    "## Features\n",
    "- **OvertureFeatureRetriever**: Query any single Overture feature type\n",
    "- **MultiFeatureRetriever**: Query multiple feature types simultaneously\n",
    "- **Theme/Type Discovery**: Automatically discover available data\n",
    "- **Schema Introspection**: Get schema information for any feature type"
   ]
  },
  {
   "cell_type": "code",
   "execution_count": null,
   "metadata": {},
   "outputs": [],
   "source": [
    "# Import required libraries\n",
    "import sys\n",
    "from pathlib import Path\n",
    "\n",
    "# Add functions directory to path\n",
    "sys.path.append('functions')\n",
    "\n",
    "from overture_feature_retriever import (\n",
    "    OvertureFeatureRetriever,\n",
    "    MultiFeatureRetriever,\n",
    "    FeatureTypeInfo\n",
    ")\n",
    "\n",
    "import pandas as pd\n",
    "print(\"✅ Imports successful\")"
   ]
  },
  {
   "cell_type": "markdown",
   "metadata": {},
   "source": [
    "## 1. Discover Available Data\n",
    "\n",
    "First, let's discover what Overture themes and feature types are available in our data directory."
   ]
  },
  {
   "cell_type": "code",
   "execution_count": null,
   "metadata": {},
   "outputs": [],
   "source": [
    "# Set your Overture data path\n",
    "# Adjust this path to point to your Overture data directory\n",
    "data_path = Path(\"/workspace/gis_data\")  # or wherever your Overture data is stored\n",
    "\n",
    "# Discover available themes\n",
    "themes = OvertureFeatureRetriever.get_available_themes(data_path)\n",
    "print(f\"Available themes: {themes}\")\n",
    "\n",
    "# Discover feature types for each theme\n",
    "for theme in themes:\n",
    "    types = OvertureFeatureRetriever.get_available_types(data_path, theme)\n",
    "    print(f\"  {theme}: {types}\")"
   ]
  },
  {
   "cell_type": "markdown",
   "metadata": {},
   "source": [
    "## 2. Single Feature Type Analysis\n",
    "\n",
    "Use `OvertureFeatureRetriever` to analyze a single feature type."
   ]
  },
  {
   "cell_type": "code",
   "execution_count": null,
   "metadata": {},
   "outputs": [],
   "source": [
    "# Initialize retriever for buildings (if available)\n",
    "if 'buildings' in themes:\n",
    "    building_types = OvertureFeatureRetriever.get_available_types(data_path, 'buildings')\n",
    "    if 'building' in building_types:\n",
    "        print(\"🏢 Initializing building retriever...\")\n",
    "        building_retriever = OvertureFeatureRetriever(data_path, 'buildings', 'building')\n",
    "        \n",
    "        print(f\"Geometry column: {building_retriever.geometry_column}\")\n",
    "        print(f\"File count: {building_retriever.file_count}\")\n",
    "        print(f\"Schema info: {building_retriever.schema_info}\")\n",
    "    else:\n",
    "        print(\"⚠️ Building feature type not found\")\n",
    "else:\n",
    "    print(\"⚠️ Buildings theme not found\")"
   ]
  },
  {
   "cell_type": "code",
   "execution_count": null,
   "metadata": {},
   "outputs": [],
   "source": [
    "# Query a small area (adjust coordinates as needed)\n",
    "if 'building_retriever' in locals():\n",
    "    print(\"🔍 Querying small area...\")\n",
    "    \n",
    "    # Query a 0.01 degree box (roughly 1km at equator)\n",
    "    result = building_retriever.query_bbox(\n",
    "        minx=-0.005, miny=-0.005, \n",
    "        maxx=0.005, maxy=0.005,\n",
    "        limit=10\n",
    "    )\n",
    "    \n",
    "    print(f\"Found {len(result)} buildings\")\n",
    "    if not result.empty:\n",
    "        print(f\"Columns: {list(result.columns)}\")\n",
    "        print(\"\\nFirst few rows:\")\n",
    "        display(result.head())\n",
    "    \n",
    "    # Clean up\n",
    "    building_retriever.close()"
   ]
  },
  {
   "cell_type": "markdown",
   "metadata": {},
   "source": [
    "## 3. Multi-Feature Type Analysis\n",
    "\n",
    "Use `MultiFeatureRetriever` to query multiple feature types simultaneously."
   ]
  },
  {
   "cell_type": "code",
   "execution_count": null,
   "metadata": {},
   "outputs": [],
   "source": [
    "# Initialize multi-feature retriever\n",
    "print(\"🔧 Initializing multi-feature retriever...\")\n",
    "multi_retriever = MultiFeatureRetriever(data_path)\n",
    "\n",
    "# Add available feature types\n",
    "added_types = []\n",
    "for theme in themes[:2]:  # Limit to first 2 themes for demo\n",
    "    types = OvertureFeatureRetriever.get_available_types(data_path, theme)\n",
    "    for feature_type in types[:1]:  # Limit to first type per theme\n",
    "        try:\n",
    "            multi_retriever.add_feature_type(theme, feature_type)\n",
    "            added_types.append((theme, feature_type))\n",
    "            print(f\"✅ Added {theme}/{feature_type}\")\n",
    "        except Exception as e:\n",
    "            print(f\"⚠️ Could not add {theme}/{feature_type}: {e}\")\n",
    "\n",
    "print(f\"\\nRegistered feature types: {multi_retriever.get_feature_types()}\")"
   ]
  },
  {
   "cell_type": "code",
   "execution_count": null,
   "metadata": {},
   "outputs": [],
   "source": [
    "# Query all registered feature types\n",
    "if added_types:\n",
    "    print(\"🔍 Querying all feature types...\")\n",
    "    \n",
    "    results = multi_retriever.query_all_types(\n",
    "        minx=-0.005, miny=-0.005,\n",
    "        maxx=0.005, maxy=0.005,\n",
    "        limit=5\n",
    "    )\n",
    "    \n",
    "    print(f\"\\nResults summary:\")\n",
    "    for (theme, feature_type), df in results.items():\n",
    "        print(f\"  {theme}/{feature_type}: {len(df)} features\")\n",
    "        if not df.empty:\n",
    "            print(f\"    Columns: {list(df.columns)}\")\n",
    "    \n",
    "    # Show first result in detail\n",
    "    if results:\n",
    "        first_key = list(results.keys())[0]\n",
    "        first_result = results[first_key]\n",
    "        if not first_result.empty:\n",
    "            print(f\"\\nFirst few rows from {first_key[0]}/{first_key[1]}:\")\n",
    "            display(first_result.head())\n",
    "\n",
    "# Clean up\n",
    "multi_retriever.close()"
   ]
  },
  {
   "cell_type": "markdown",
   "metadata": {},
   "source": [
    "## 4. Schema Introspection\n",
    "\n",
    "Explore the schema information for different feature types."
   ]
  },
  {
   "cell_type": "code",
   "execution_count": null,
   "metadata": {},
   "outputs": [],
   "source": [
    "# Create a new multi-retriever for schema exploration\n",
    "schema_retriever = MultiFeatureRetriever(data_path)\n",
    "\n",
    "# Add a few feature types\n",
    "for theme in themes[:2]:\n",
    "    types = OvertureFeatureRetriever.get_available_types(data_path, theme)\n",
    "    for feature_type in types[:1]:\n",
    "        try:\n",
    "            schema_retriever.add_feature_type(theme, feature_type)\n",
    "        except:\n",
    "            pass\n",
    "\n",
    "# Get schema information for all registered types\n",
    "all_schemas = schema_retriever.get_all_schema_info()\n",
    "\n",
    "for (theme, feature_type), schema in all_schemas.items():\n",
    "    print(f\"\\n📋 Schema for {theme}/{feature_type}:\")\n",
    "    print(f\"  Geometry column: {schema.get('geometry_column')}\")\n",
    "    print(f\"  File count: {schema.get('file_count')}\")\n",
    "    print(f\"  Columns ({len(schema.get('columns', {}))}):\"))\n",
    "    \n",
    "    columns = schema.get('columns', {})\n",
    "    for col_name, col_type in list(columns.items())[:10]:  # Show first 10 columns\n",
    "        print(f\"    {col_name}: {col_type}\")\n",
    "    \n",
    "    if len(columns) > 10:\n",
    "        print(f\"    ... and {len(columns) - 10} more columns\")\n",
    "\n",
    "schema_retriever.close()"
   ]
  },
  {
   "cell_type": "markdown",
   "metadata": {},
   "source": [
    "## Summary\n",
    "\n",
    "The universal feature retriever infrastructure provides:\n",
    "\n",
    "1. **Unified API**: Same interface for all Overture feature types\n",
    "2. **Discovery**: Automatic detection of available themes and types\n",
    "3. **Schema Introspection**: Dynamic schema information\n",
    "4. **Multi-type Support**: Query multiple feature types simultaneously\n",
    "5. **Performance**: Reuses BuildingRetriever's optimized spatial indexing\n",
    "\n",
    "This foundation enables the next tasks in the implementation plan:\n",
    "- Source analysis and extraction\n",
    "- Spatial aggregation and sampling\n",
    "- Interactive visualizations\n",
    "- Comparative analysis across feature types"
   ]
  }
 ],
 "metadata": {
  "kernelspec": {
   "display_name": "Python 3",
   "language": "python",
   "name": "python3"
  },
  "language_info": {
   "codemirror_mode": {
    "name": "ipython",
    "version": 3
   },
   "file_extension": ".py",
   "mimetype": "text/x-python",
   "name": "python",
   "nbconvert_exporter": "python",
   "pygments_lexer": "ipython3",
   "version": "3.12.0"
  }
 },
 "nbformat": 4,
 "nbformat_minor": 4
}