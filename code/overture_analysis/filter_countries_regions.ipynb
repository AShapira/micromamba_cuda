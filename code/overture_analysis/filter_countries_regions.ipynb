{
 "cells": [
  {
   "cell_type": "markdown",
   "id": "b31ac0ab",
   "metadata": {},
   "source": [
    "# Filter country polygons from division areas\n",
    "\n",
    "Scan the `type=division_area` GeoParquet files, keep features marked as land countries, and export them to `data/results/country_area.parquet`."
   ]
  },
  {
   "cell_type": "code",
   "execution_count": null,
   "id": "3a57db95",
   "metadata": {},
   "outputs": [],
   "source": [
    "from pathlib import Path\n",
    "\n",
    "import duckdb\n",
    "\n",
    "repo_root = Path.cwd().resolve().parents[1]\n",
    "division_area_dir = repo_root / 'gis_data' / 'overturemaps-us-west-2' / 'release' / '2025-08-20.1' / 'theme=divisions' / 'type=division_area'\n",
    "source_pattern = str(division_area_dir / '*.parquet')\n",
    "output_path = repo_root / 'data' / 'results' / 'country_area.parquet'\n",
    "output_path.parent.mkdir(parents=True, exist_ok=True)\n",
    "\n",
    "con = duckdb.connect(database=':memory:')\n",
    "country_df = con.execute(\n",
    "    '''\n",
    "    SELECT *\n",
    "    FROM read_parquet(?)\n",
    "    WHERE subtype = 'country' AND is_land\n",
    "    ORDER BY id\n",
    "    '''\n",
    "    ,\n",
    "    [source_pattern],\n",
    ").fetchdf()\n",
    "con.close()\n",
    "\n",
    "country_df.to_parquet(output_path, index=False)\n",
    "print(f'Retrieved {len(country_df)} country divisions and saved to {output_path}')\n"
   ]
  },
  {
   "cell_type": "code",
   "execution_count": null,
   "id": "50f5356e",
   "metadata": {},
   "outputs": [],
   "source": [
    "from pathlib import Path\n",
    "\n",
    "import duckdb\n",
    "\n",
    "repo_root = Path.cwd().resolve().parents[1]\n",
    "division_area_dir = repo_root / 'gis_data' / 'overturemaps-us-west-2' / 'release' / '2025-08-20.1' / 'theme=divisions' / 'type=division_area'\n",
    "source_pattern = str(division_area_dir / '*.parquet')\n",
    "output_path = repo_root / 'data' / 'results' / 'region_area.parquet'\n",
    "output_path.parent.mkdir(parents=True, exist_ok=True)\n",
    "\n",
    "con = duckdb.connect(database=':memory:')\n",
    "region_df = con.execute(\n",
    "    '''\n",
    "    SELECT *\n",
    "    FROM read_parquet(?)\n",
    "    WHERE subtype = 'region' AND is_land\n",
    "    ORDER BY id\n",
    "    '''\n",
    "    ,\n",
    "    [source_pattern],\n",
    ").fetchdf()\n",
    "con.close()\n",
    "\n",
    "region_df.to_parquet(output_path, index=False)\n",
    "print(f'Retrieved {len(region_df)} region divisions and saved to {output_path}')\n"
   ]
  }
 ],
 "metadata": {
  "kernelspec": {
   "display_name": "gis",
   "language": "python",
   "name": "python3"
  },
  "language_info": {
   "codemirror_mode": {
    "name": "ipython",
    "version": 3
   },
   "file_extension": ".py",
   "mimetype": "text/x-python",
   "name": "python",
   "nbconvert_exporter": "python",
   "pygments_lexer": "ipython3",
   "version": "3.12.12"
  }
 },
 "nbformat": 4,
 "nbformat_minor": 5
}
